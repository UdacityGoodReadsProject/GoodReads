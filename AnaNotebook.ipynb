{
 "cells": [
  {
   "cell_type": "markdown",
   "metadata": {},
   "source": [
    "# Phase 1: books ids extraction (Nesreen)"
   ]
  },
  {
   "cell_type": "code",
   "execution_count": 72,
   "metadata": {},
   "outputs": [],
   "source": [
    "CLIENT_ID = 'doDe9gQzQN1nhSLAkBAGQ'\n",
    "CLIENT_SECRET = 'dZIiAKXZ1gRU1oWxxBy5ED1S6l78B65VgRV2RCS0'"
   ]
  },
  {
   "cell_type": "code",
   "execution_count": 73,
   "metadata": {},
   "outputs": [],
   "source": [
    "import oauth2"
   ]
  },
  {
   "cell_type": "code",
   "execution_count": 74,
   "metadata": {},
   "outputs": [],
   "source": [
    "url = 'http://www.goodreads.com'\n",
    "request_token_url = '%s/oauth/request_token' % url\n",
    "authorize_url = '%s/oauth/authorize' % url\n",
    "access_token_url = '%s/oauth/access_token' % url"
   ]
  },
  {
   "cell_type": "code",
   "execution_count": 75,
   "metadata": {},
   "outputs": [],
   "source": [
    "# consumer authentication using oauth2\n",
    "consumer = oauth2.Consumer(key= CLIENT_ID, secret= CLIENT_SECRET)\n",
    "client = oauth2.Client(consumer) #create the client"
   ]
  },
  {
   "cell_type": "code",
   "execution_count": 76,
   "metadata": {},
   "outputs": [],
   "source": [
    "# The OAuth Client request to get access token\n",
    "response, content = client.request(request_token_url, 'GET')"
   ]
  },
  {
   "cell_type": "code",
   "execution_count": 77,
   "metadata": {},
   "outputs": [],
   "source": [
    "if response['status'] != '200':\n",
    "    raise Exception('Invalid response: %s' % response['status'])"
   ]
  },
  {
   "cell_type": "code",
   "execution_count": 78,
   "metadata": {},
   "outputs": [],
   "source": [
    "import urllib"
   ]
  },
  {
   "cell_type": "code",
   "execution_count": 79,
   "metadata": {},
   "outputs": [
    {
     "data": {
      "text/plain": [
       "{b'oauth_token': b'BRx3jDsecno40PTsIVvkpA',\n",
       " b'oauth_token_secret': b'Sx1GXwuhohlb39s9N6DSLkuvJvbiUtt1VWORNvf0'}"
      ]
     },
     "execution_count": 79,
     "metadata": {},
     "output_type": "execute_result"
    }
   ],
   "source": [
    "dict(urllib.parse.parse_qsl(content))"
   ]
  },
  {
   "cell_type": "code",
   "execution_count": 80,
   "metadata": {},
   "outputs": [],
   "source": [
    "#get access token    \n",
    "request_token = dict(urllib.parse.parse_qsl(content))\n",
    "oauth_token_key,oauth_token_secret = request_token[b'oauth_token'], request_token[b'oauth_token_secret']"
   ]
  },
  {
   "cell_type": "code",
   "execution_count": 81,
   "metadata": {},
   "outputs": [],
   "source": [
    "from bs4 import BeautifulSoup"
   ]
  },
  {
   "cell_type": "code",
   "execution_count": 82,
   "metadata": {},
   "outputs": [],
   "source": [
    "from urllib.request import urlopen"
   ]
  },
  {
   "cell_type": "code",
   "execution_count": 83,
   "metadata": {},
   "outputs": [],
   "source": [
    "books_list = []\n",
    "#BASE_URL = \"https://www.goodreads.com/group/bookshelf/603467-bertelsmann-data-science-book-readers&page=1\"\n",
    "BASE_URL = \"https://www.goodreads.com/group/bookshelf/603467-bertelsmann-data-science-book-readers?order=d&per_page=200&shelf=udacians-favorites&sort=date_added&view=main\"\n",
    "html = urlopen(BASE_URL).read()\n",
    "soup = BeautifulSoup(html,'html.parser')\n",
    "table = soup.find(id='groupBooks')\n",
    "for row in table.findAll(\"tr\"):\n",
    "    if row.td:\n",
    "        td = row.findAll(\"td\")[0]\n",
    "        if td.find('a'):\n",
    "            link = td.find('a')\n",
    "            books_list.append(link.get('href'))\n",
    "            continue"
   ]
  },
  {
   "cell_type": "markdown",
   "metadata": {},
   "source": [
    "# Extract all books ids (Ana)"
   ]
  },
  {
   "cell_type": "code",
   "execution_count": 84,
   "metadata": {},
   "outputs": [],
   "source": [
    "# imports\n",
    "import pandas as pd\n",
    "import re\n",
    "import goodreads_api_client as gr"
   ]
  },
  {
   "cell_type": "code",
   "execution_count": 85,
   "metadata": {},
   "outputs": [],
   "source": [
    "# create data frame to hold relevant info\n",
    "books_df = pd.DataFrame({'link': books_list})"
   ]
  },
  {
   "cell_type": "code",
   "execution_count": 86,
   "metadata": {},
   "outputs": [],
   "source": [
    "books_df['id'] = books_df['link'].apply(lambda x: re.findall(r'\\d+', x)[0])"
   ]
  },
  {
   "cell_type": "markdown",
   "metadata": {},
   "source": [
    "# Fields extraction "
   ]
  },
  {
   "cell_type": "code",
   "execution_count": 87,
   "metadata": {},
   "outputs": [],
   "source": [
    "# connect. Set up connection to Good Reads\n",
    "gr_client = gr.Client(developer_key='doDe9gQzQN1nhSLAkBAGQ')"
   ]
  },
  {
   "cell_type": "code",
   "execution_count": 88,
   "metadata": {},
   "outputs": [],
   "source": [
    "book = gr_client.Book.show('1128434')"
   ]
  },
  {
   "cell_type": "code",
   "execution_count": 423,
   "metadata": {},
   "outputs": [],
   "source": [
    "def try_or_none(obj, attribute):\n",
    "    try: \n",
    "        result = obj[attribute]\n",
    "        return result\n",
    "    except: \n",
    "        return None"
   ]
  },
  {
   "cell_type": "code",
   "execution_count": 424,
   "metadata": {},
   "outputs": [],
   "source": [
    "STOP_WORDS = ['to-read', 're-read', 'currently-reading', 'owned', 'books-i-own', 'kindle',\n",
    "             'favorites']\n",
    "STOP_STEMS = ['-fantasy'] # not adapted it yet\n",
    "def take_top_n_meaningful_shelves(shelves: list, n: int) -> list:\n",
    "    result = [try_or_none(x, '@name') for x in shelves if (try_or_none(x,'@name') not in STOP_WORDS \n",
    "                                                           and try_or_none(x,'@name') is not None)][:n]\n",
    "    return result"
   ]
  },
  {
   "cell_type": "code",
   "execution_count": 431,
   "metadata": {},
   "outputs": [],
   "source": [
    "NUMBER_OF_FIELDS_FOR_AUTHOR = 9\n",
    "def extract_fields(book):\n",
    "    book_id = int(book['id'])\n",
    "    title = book['title']\n",
    "    reviews_count = try_or_none(book['work']['reviews_count'],'#text')\n",
    "    ratings_count = try_or_none(book['work']['ratings_count'],'#text')\n",
    "    publication_year = try_or_none(book['work']['original_publication_year'],'#text')\n",
    "    average_rating = float(book['average_rating'])\n",
    "    ratings_sum = try_or_none(book['work']['ratings_sum'],'#text')\n",
    "    ratings_count = try_or_none(book['work']['ratings_count'],'#text')\n",
    "    if (ratings_sum is not None) and (ratings_count is not None) and (int(ratings_count) > 0):\n",
    "        alt_averate_rating = int(ratings_sum)/int(ratings_count)\n",
    "    else: \n",
    "        alt_averate_rating = None\n",
    "    n_authors = len(book['authors']['author'])\n",
    "    single_author = False\n",
    "    if n_authors == NUMBER_OF_FIELDS_FOR_AUTHOR:\n",
    "        single_author = True\n",
    "    if n_authors > 0:\n",
    "        if single_author:\n",
    "            author1 = book['authors']['author']\n",
    "        else:\n",
    "            author1 = book['authors']['author'][0]\n",
    "        author1_name = author1['name']\n",
    "        author1_role = author1['role']\n",
    "        author1_average_rating = author1['average_rating']\n",
    "    else: \n",
    "        author1 = None\n",
    "        author1_name = None\n",
    "        author1_role = None\n",
    "        author1_average_rating = None\n",
    "    if (not single_author) and (n_authors > 1):\n",
    "        author2 = book['authors']['author'][1]\n",
    "        author2_name = author2['name']\n",
    "        author2_role = author2['role']\n",
    "        author2_average_rating = author2['average_rating']\n",
    "    else: \n",
    "        author2 = None\n",
    "        author2_name = None\n",
    "        author2_role = None\n",
    "        author2_average_rating = None\n",
    "    if (not single_author) and (n_authors > 2):\n",
    "        author3 = book['authors']['author'][2]\n",
    "        author3_name = author3['name']\n",
    "        author3_role = author3['role']\n",
    "        author3_average_rating = author3['average_rating']\n",
    "    else:\n",
    "        author3 = None\n",
    "        author3_name = None\n",
    "        author3_role = None\n",
    "        author3_average_rating = None \n",
    "    if (try_or_none(book, 'popular_shelves') is not None) and (try_or_none(book['popular_shelves'], 'shelf') is not None):\n",
    "        genres = ','.join(take_top_n_meaningful_shelves(book['popular_shelves']['shelf'],10))\n",
    "    else:\n",
    "        genres = None                                      \n",
    "    result = pd.DataFrame({'id': [book_id],\n",
    "                           'title': [title],\n",
    "                           'reviews_cnt': [reviews_count],\n",
    "                           'ratings_cnt': [ratings_count],\n",
    "                           'pub_year': [publication_year],\n",
    "                           'avg_rating': [average_rating],\n",
    "                           'alt_avg_rating': [alt_averate_rating],\n",
    "                           'author1_name': [author1_name],\n",
    "                           'author1_role': [author1_role], \n",
    "                           'author1_avg_rating': [author1_average_rating],\n",
    "                           'author2_name': [author2_name],\n",
    "                           'author2_role': [author2_role], \n",
    "                           'author2_avg_rating': [author2_average_rating],\n",
    "                           'author3_name': [author3_name],\n",
    "                           'author3_role': [author3_role], \n",
    "                           'author3_avg_rating': [author3_average_rating],\n",
    "                           'genres': [genres] \n",
    "    })\n",
    "    return result"
   ]
  },
  {
   "cell_type": "code",
   "execution_count": 441,
   "metadata": {},
   "outputs": [],
   "source": [
    "# 38213081, 34874231,7844543, 34109075, 39912728\n",
    "test_book = gr_client.Book.show(39912728)"
   ]
  },
  {
   "cell_type": "code",
   "execution_count": 442,
   "metadata": {},
   "outputs": [
    {
     "data": {
      "text/html": [
       "<div>\n",
       "<style scoped>\n",
       "    .dataframe tbody tr th:only-of-type {\n",
       "        vertical-align: middle;\n",
       "    }\n",
       "\n",
       "    .dataframe tbody tr th {\n",
       "        vertical-align: top;\n",
       "    }\n",
       "\n",
       "    .dataframe thead th {\n",
       "        text-align: right;\n",
       "    }\n",
       "</style>\n",
       "<table border=\"1\" class=\"dataframe\">\n",
       "  <thead>\n",
       "    <tr style=\"text-align: right;\">\n",
       "      <th></th>\n",
       "      <th>id</th>\n",
       "      <th>title</th>\n",
       "      <th>reviews_cnt</th>\n",
       "      <th>ratings_cnt</th>\n",
       "      <th>pub_year</th>\n",
       "      <th>avg_rating</th>\n",
       "      <th>alt_avg_rating</th>\n",
       "      <th>author1_name</th>\n",
       "      <th>author1_role</th>\n",
       "      <th>author1_avg_rating</th>\n",
       "      <th>author2_name</th>\n",
       "      <th>author2_role</th>\n",
       "      <th>author2_avg_rating</th>\n",
       "      <th>author3_name</th>\n",
       "      <th>author3_role</th>\n",
       "      <th>author3_avg_rating</th>\n",
       "      <th>genres</th>\n",
       "    </tr>\n",
       "  </thead>\n",
       "  <tbody>\n",
       "    <tr>\n",
       "      <th>0</th>\n",
       "      <td>39912728</td>\n",
       "      <td>A Tale of Two Cities: Charles Dickens</td>\n",
       "      <td>2</td>\n",
       "      <td>0</td>\n",
       "      <td>None</td>\n",
       "      <td>0.0</td>\n",
       "      <td>None</td>\n",
       "      <td>Charles Dickens</td>\n",
       "      <td>None</td>\n",
       "      <td>3.87</td>\n",
       "      <td>None</td>\n",
       "      <td>None</td>\n",
       "      <td>None</td>\n",
       "      <td>None</td>\n",
       "      <td>None</td>\n",
       "      <td>None</td>\n",
       "      <td></td>\n",
       "    </tr>\n",
       "  </tbody>\n",
       "</table>\n",
       "</div>"
      ],
      "text/plain": [
       "         id                                  title reviews_cnt ratings_cnt  \\\n",
       "0  39912728  A Tale of Two Cities: Charles Dickens           2           0   \n",
       "\n",
       "  pub_year  avg_rating alt_avg_rating     author1_name author1_role  \\\n",
       "0     None         0.0           None  Charles Dickens         None   \n",
       "\n",
       "  author1_avg_rating author2_name author2_role author2_avg_rating  \\\n",
       "0               3.87         None         None               None   \n",
       "\n",
       "  author3_name author3_role author3_avg_rating genres  \n",
       "0         None         None               None         "
      ]
     },
     "execution_count": 442,
     "metadata": {},
     "output_type": "execute_result"
    }
   ],
   "source": [
    "extract_fields(test_book)"
   ]
  },
  {
   "cell_type": "code",
   "execution_count": 443,
   "metadata": {},
   "outputs": [],
   "source": [
    "def build_books_data_frame():\n",
    "    book = gr_client.Book.show(books_df.id[0])\n",
    "    result = extract_fields(book)\n",
    "    for book_id in books_df.id[1:]:\n",
    "        book = gr_client.Book.show(book_id)\n",
    "        row = extract_fields(book)\n",
    "        result = pd.concat([result, row])\n",
    "    return result"
   ]
  },
  {
   "cell_type": "code",
   "execution_count": 444,
   "metadata": {},
   "outputs": [],
   "source": [
    "df = build_books_data_frame()"
   ]
  },
  {
   "cell_type": "code",
   "execution_count": 446,
   "metadata": {},
   "outputs": [],
   "source": [
    "#df"
   ]
  },
  {
   "cell_type": "code",
   "execution_count": 447,
   "metadata": {},
   "outputs": [],
   "source": [
    "df.to_csv('gr_books_v1.csv', index=False)"
   ]
  },
  {
   "cell_type": "code",
   "execution_count": null,
   "metadata": {},
   "outputs": [],
   "source": []
  }
 ],
 "metadata": {
  "kernelspec": {
   "display_name": "BIEnv",
   "language": "python",
   "name": "bienv"
  },
  "language_info": {
   "codemirror_mode": {
    "name": "ipython",
    "version": 3
   },
   "file_extension": ".py",
   "mimetype": "text/x-python",
   "name": "python",
   "nbconvert_exporter": "python",
   "pygments_lexer": "ipython3",
   "version": "3.6.5"
  }
 },
 "nbformat": 4,
 "nbformat_minor": 2
}
