{
 "cells": [
  {
   "cell_type": "code",
   "execution_count": 1,
   "metadata": {},
   "outputs": [],
   "source": [
    "CLIENT_ID = 'doDe9gQzQN1nhSLAkBAGQ'\n",
    "CLIENT_SECRET = 'dZIiAKXZ1gRU1oWxxBy5ED1S6l78B65VgRV2RCS0'"
   ]
  },
  {
   "cell_type": "code",
   "execution_count": null,
   "metadata": {},
   "outputs": [],
   "source": [
    "import oauth2"
   ]
  },
  {
   "cell_type": "code",
   "execution_count": null,
   "metadata": {},
   "outputs": [],
   "source": [
    "url = 'http://www.goodreads.com'\n",
    "request_token_url = '%s/oauth/request_token' % url\n",
    "authorize_url = '%s/oauth/authorize' % url\n",
    "access_token_url = '%s/oauth/access_token' % url"
   ]
  },
  {
   "cell_type": "code",
   "execution_count": null,
   "metadata": {},
   "outputs": [],
   "source": [
    "# consumer authentication using oauth2\n",
    "consumer = oauth2.Consumer(key= CLIENT_ID, secret= CLIENT_SECRET)\n",
    "client = oauth2.Client(consumer) #create the client"
   ]
  },
  {
   "cell_type": "code",
   "execution_count": null,
   "metadata": {},
   "outputs": [],
   "source": [
    "# The OAuth Client request to get access token\n",
    "response, content = client.request(request_token_url, 'GET')"
   ]
  },
  {
   "cell_type": "code",
   "execution_count": null,
   "metadata": {},
   "outputs": [],
   "source": [
    "if response['status'] != '200':\n",
    "    raise Exception('Invalid response: %s' % response['status'])"
   ]
  },
  {
   "cell_type": "code",
   "execution_count": null,
   "metadata": {},
   "outputs": [],
   "source": [
    "import urllib"
   ]
  },
  {
   "cell_type": "code",
   "execution_count": null,
   "metadata": {},
   "outputs": [],
   "source": [
    "dict(urllib.parse.parse_qsl(content))"
   ]
  },
  {
   "cell_type": "code",
   "execution_count": null,
   "metadata": {},
   "outputs": [],
   "source": [
    "#get access token    \n",
    "request_token = dict(urllib.parse.parse_qsl(content))\n",
    "oauth_token_key,oauth_token_secret = request_token[b'oauth_token'], request_token[b'oauth_token_secret']"
   ]
  },
  {
   "cell_type": "code",
   "execution_count": null,
   "metadata": {},
   "outputs": [],
   "source": [
    "from bs4 import BeautifulSoup"
   ]
  },
  {
   "cell_type": "code",
   "execution_count": null,
   "metadata": {},
   "outputs": [],
   "source": [
    "from urllib.request import urlopen"
   ]
  },
  {
   "cell_type": "code",
   "execution_count": null,
   "metadata": {},
   "outputs": [],
   "source": [
    "books_list = []\n",
    "#BASE_URL = \"https://www.goodreads.com/group/bookshelf/603467-bertelsmann-data-science-book-readers&page=1\"\n",
    "BASE_URL = \"https://www.goodreads.com/group/bookshelf/603467-bertelsmann-data-science-book-readers?order=d&per_page=200&shelf=udacians-favorites&sort=date_added&view=main\"\n",
    "html = urlopen(BASE_URL).read()\n",
    "soup = BeautifulSoup(html,'html.parser')\n",
    "table = soup.find(id='groupBooks')\n",
    "for row in table.findAll(\"tr\"):\n",
    "    if row.td:\n",
    "        td = row.findAll(\"td\")[0]\n",
    "        if td.find('a'):\n",
    "            link = td.find('a')\n",
    "            books_list.append(link.get('href'))\n",
    "            continue"
   ]
  },
  {
   "cell_type": "code",
   "execution_count": 3,
   "metadata": {},
   "outputs": [],
   "source": [
    "import goodreads_api_client as gc\n",
    "gr_client = gr.Client(developer_key=CLIENT_ID)"
   ]
  },
  {
   "cell_type": "code",
   "execution_count": null,
   "metadata": {},
   "outputs": [],
   "source": []
  }
 ],
 "metadata": {
  "kernelspec": {
   "display_name": "BIEnv",
   "language": "python",
   "name": "bienv"
  },
  "language_info": {
   "codemirror_mode": {
    "name": "ipython",
    "version": 3
   },
   "file_extension": ".py",
   "mimetype": "text/x-python",
   "name": "python",
   "nbconvert_exporter": "python",
   "pygments_lexer": "ipython3",
   "version": "3.6.5"
  }
 },
 "nbformat": 4,
 "nbformat_minor": 2
}
